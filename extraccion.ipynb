{
 "cells": [
  {
   "cell_type": "markdown",
   "id": "48701d33",
   "metadata": {},
   "source": [
    "# Encabezado y configuración"
   ]
  },
  {
   "cell_type": "code",
   "execution_count": 1,
   "id": "cf107701",
   "metadata": {},
   "outputs": [],
   "source": [
    "from pathlib import Path\n",
    "import pandas as pd\n",
    "\n",
    "DATA_DIR = Path(\"data\")          # Carpeta con los .sav\n",
    "OUTPUT_FILE = DATA_DIR / \"db.csv\""
   ]
  },
  {
   "cell_type": "markdown",
   "id": "8afff3f9",
   "metadata": {},
   "source": [
    "# Utilidad para leer archivos SPSS"
   ]
  },
  {
   "cell_type": "code",
   "execution_count": 2,
   "id": "0ad27259",
   "metadata": {},
   "outputs": [],
   "source": [
    "def read_spss(name: str, *, usecols: list[str] | None = None) -> pd.DataFrame:\n",
    "    \"\"\"Lee un .sav dentro de DATA_DIR y devuelve un DataFrame.\"\"\"\n",
    "    return pd.read_spss(DATA_DIR / name, usecols=usecols)"
   ]
  },
  {
   "cell_type": "markdown",
   "id": "8d2b2321",
   "metadata": {},
   "source": [
    "# Hogares de referencia (NUMHOG)"
   ]
  },
  {
   "cell_type": "code",
   "execution_count": 3,
   "id": "ed271e9b",
   "metadata": {},
   "outputs": [],
   "source": [
    "personas_min = read_spss(\"PERSONAS.sav\", usecols=[\"NUMHOG\", \"PPA09\"])\n",
    "hogares_completos = (\n",
    "    personas_min.loc[personas_min.PPA09 == \"COMPLETA\", \"NUMHOG\"]\n",
    "    .drop_duplicates()\n",
    "    .sort_values()\n",
    ")\n",
    "resumen = pd.DataFrame(index=hogares_completos, dtype=\"float\")\n"
   ]
  },
  {
   "cell_type": "markdown",
   "id": "55ce66e9",
   "metadata": {},
   "source": [
    "# Donaciones – pobreza y P01F03"
   ]
  },
  {
   "cell_type": "code",
   "execution_count": 4,
   "id": "6272faae",
   "metadata": {},
   "outputs": [],
   "source": [
    "donaciones = read_spss(\n",
    "    \"DONACIONES.sav\",\n",
    "    usecols=[\"NUMHOG\", \"POBREZA\", \"P01F03\"],\n",
    ")\n",
    "\n",
    "donaciones_grouped = (\n",
    "    donaciones.groupby(\"NUMHOG\").agg(\n",
    "        pobreza=(\"POBREZA\", \"first\"),   # asumimos un valor por hogar\n",
    "        P01F03=(\"P01F03\", \"sum\"),\n",
    "    )\n",
    "    .reindex(resumen.index)\n",
    ")\n",
    "\n",
    "resumen = resumen.join(donaciones_grouped)\n"
   ]
  },
  {
   "cell_type": "markdown",
   "id": "05324429",
   "metadata": {},
   "source": [
    "# Compras al crédito"
   ]
  },
  {
   "cell_type": "code",
   "execution_count": 5,
   "id": "0b7e1e87",
   "metadata": {},
   "outputs": [],
   "source": [
    "credito = read_spss(\n",
    "    \"Compras al crédito - encabezado-.sav\",\n",
    "    usecols=[\"NUMHOG\", \"P15B02\", \"P15B04\", \"P15B06A\"],\n",
    ")\n",
    "\n",
    "credito_grouped = (\n",
    "    credito.groupby(\"NUMHOG\").agg(\n",
    "        P15B02=(\"P15B02\", \"sum\"),\n",
    "        P15B04=(\"P15B04\", \"sum\"),\n",
    "        P15B06A=(\"P15B06A\", \"sum\"),\n",
    "    ).reindex(resumen.index)\n",
    ")\n",
    "\n",
    "resumen = resumen.join(credito_grouped)\n"
   ]
  },
  {
   "cell_type": "markdown",
   "id": "ddd3e701",
   "metadata": {},
   "source": [
    "# Negocios no agropecuarios"
   ]
  },
  {
   "cell_type": "code",
   "execution_count": 6,
   "id": "695ba272",
   "metadata": {},
   "outputs": [],
   "source": [
    "negocios = read_spss(\n",
    "    \"Negocios No Agropecuarios Encabezado.sav\",\n",
    "    usecols=[\"NUMHOG\", \"P13A02A\"],\n",
    ")\n",
    "resumen[\"P13A02A\"] = (\n",
    "    negocios.groupby(\"NUMHOG\")[\"P13A02A\"].sum().reindex(resumen.index)\n",
    ")\n"
   ]
  },
  {
   "cell_type": "markdown",
   "id": "d2313292",
   "metadata": {},
   "source": [
    "# Variables de PERSONAS.sav"
   ]
  },
  {
   "cell_type": "code",
   "execution_count": 7,
   "id": "1f51440e",
   "metadata": {},
   "outputs": [],
   "source": [
    "vars_sum = [\n",
    "    \"P09F03B\", \"P09F03C\", \"P09F04B\", \"P09F04C\", \"P09F05B\", \"P09F05C\",\n",
    "    \"P09F06B\", \"P09F06C\", \"P09F07B\", \"P09F07C\", \"P09F08B\", \"P09F08C\",\n",
    "    \"P09F09B\", \"P09F09C\", \"P10B20B\", \"P11A05B\", \"P11A06B\",\n",
    "]\n",
    "vars_mean = [\n",
    "    \"P06B10A\", \"P06B10B\", \"P09A03B\", \"P09A03C\",\n",
    "    \"P09B02B\", \"P09B02C\",\n",
    "]\n",
    "\n",
    "personas_full = read_spss(\n",
    "    \"PERSONAS.sav\",\n",
    "    usecols=[\n",
    "        \"NUMHOG\", \"P06B01\", \"P10B01\", \"P10B08\",\n",
    "        *vars_sum, *vars_mean,\n",
    "    ],\n",
    ")\n",
    "\n",
    "# Conteo de “Si” en P06B01\n",
    "personas_full[\"P06B01_SI\"] = (personas_full.P06B01 == \"Si\").astype(int)\n",
    "\n",
    "aggs = {\n",
    "    **{v: (v, \"sum\")  for v in vars_sum},\n",
    "    **{v: (v, \"mean\") for v in vars_mean},\n",
    "    \"P06B01\": (\"P06B01_SI\", \"sum\"),\n",
    "    \"P10B01\": (\"P10B01\",   \"mean\"),\n",
    "    \"P10B08\": (\"P10B08\",   \"mean\"),\n",
    "}\n",
    "\n",
    "personas_grouped = (\n",
    "    personas_full.groupby(\"NUMHOG\").agg(**aggs).reindex(resumen.index)\n",
    ")\n",
    "\n",
    "resumen = resumen.join(personas_grouped)\n"
   ]
  },
  {
   "cell_type": "markdown",
   "id": "0650b83d",
   "metadata": {},
   "source": [
    "# Limpieza final y exportación"
   ]
  },
  {
   "cell_type": "code",
   "execution_count": 8,
   "id": "13ba46ea",
   "metadata": {},
   "outputs": [
    {
     "name": "stdout",
     "output_type": "stream",
     "text": [
      "<class 'pandas.core.frame.DataFrame'>\n",
      "Index: 11536 entries, 1.0 to 11536.0\n",
      "Data columns (total 32 columns):\n",
      " #   Column   Non-Null Count  Dtype   \n",
      "---  ------   --------------  -----   \n",
      " 0   pobreza  11536 non-null  category\n",
      " 1   P01F03   11536 non-null  float64 \n",
      " 2   P15B02   11536 non-null  float64 \n",
      " 3   P15B04   11536 non-null  float64 \n",
      " 4   P15B06A  11536 non-null  float64 \n",
      " 5   P13A02A  11536 non-null  float64 \n",
      " 6   P09F03B  11536 non-null  float64 \n",
      " 7   P09F03C  11536 non-null  float64 \n",
      " 8   P09F04B  11536 non-null  float64 \n",
      " 9   P09F04C  11536 non-null  float64 \n",
      " 10  P09F05B  11536 non-null  float64 \n",
      " 11  P09F05C  11536 non-null  float64 \n",
      " 12  P09F06B  11536 non-null  float64 \n",
      " 13  P09F06C  11536 non-null  float64 \n",
      " 14  P09F07B  11536 non-null  float64 \n",
      " 15  P09F07C  11536 non-null  float64 \n",
      " 16  P09F08B  11536 non-null  float64 \n",
      " 17  P09F08C  11536 non-null  float64 \n",
      " 18  P09F09B  11536 non-null  float64 \n",
      " 19  P09F09C  11536 non-null  float64 \n",
      " 20  P10B20B  11536 non-null  float64 \n",
      " 21  P11A05B  11536 non-null  float64 \n",
      " 22  P11A06B  11536 non-null  float64 \n",
      " 23  P06B10A  11536 non-null  float64 \n",
      " 24  P06B10B  11536 non-null  float64 \n",
      " 25  P09A03B  11536 non-null  float64 \n",
      " 26  P09A03C  11536 non-null  float64 \n",
      " 27  P09B02B  11536 non-null  float64 \n",
      " 28  P09B02C  11536 non-null  float64 \n",
      " 29  P06B01   11536 non-null  int64   \n",
      " 30  P10B01   11536 non-null  float64 \n",
      " 31  P10B08   11536 non-null  float64 \n",
      "dtypes: category(1), float64(30), int64(1)\n",
      "memory usage: 2.8 MB\n",
      "None\n",
      "Archivo exportado a: data/db.csv\n"
     ]
    }
   ],
   "source": [
    "# Rellena NaN numéricos con 0; deja los no‑numéricos tal cual\n",
    "num_cols = resumen.select_dtypes(\"number\").columns\n",
    "resumen[num_cols] = resumen[num_cols].fillna(0)\n",
    "\n",
    "print(resumen.info(show_counts=True))\n",
    "\n",
    "resumen.to_csv(OUTPUT_FILE, index_label=\"NUMHOG\")\n",
    "print(f\"Archivo exportado a: {OUTPUT_FILE}\")\n"
   ]
  },
  {
   "cell_type": "code",
   "execution_count": null,
   "id": "37322869",
   "metadata": {},
   "outputs": [],
   "source": []
  }
 ],
 "metadata": {
  "kernelspec": {
   "display_name": ".venv",
   "language": "python",
   "name": "python3"
  },
  "language_info": {
   "codemirror_mode": {
    "name": "ipython",
    "version": 3
   },
   "file_extension": ".py",
   "mimetype": "text/x-python",
   "name": "python",
   "nbconvert_exporter": "python",
   "pygments_lexer": "ipython3",
   "version": "3.13.1"
  }
 },
 "nbformat": 4,
 "nbformat_minor": 5
}
