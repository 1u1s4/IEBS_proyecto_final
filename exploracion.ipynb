{
 "cells": [
  {
   "cell_type": "code",
   "execution_count": 1,
   "metadata": {},
   "outputs": [],
   "source": [
    "import pandas as pd"
   ]
  },
  {
   "cell_type": "code",
   "execution_count": 2,
   "metadata": {},
   "outputs": [],
   "source": [
    "df = pd.read_csv('data/db.csv')"
   ]
  },
  {
   "cell_type": "code",
   "execution_count": 3,
   "metadata": {},
   "outputs": [],
   "source": [
    "import pandas as pd\n",
    "\n",
    "def extraer(col_name: str, df: pd.DataFrame, num_hog: list) -> list:\n",
    "    salida = []\n",
    "    df[col_name] = df[col_name].fillna(0)\n",
    "    for nh in num_hog:\n",
    "        _nh = df.NUMHOG == nh\n",
    "        i = df[_nh][col_name].mean()\n",
    "        salida.append(i)\n",
    "    return salida"
   ]
  },
  {
   "cell_type": "markdown",
   "metadata": {},
   "source": [
    "### Numero de hogar (key primaria)"
   ]
  },
  {
   "cell_type": "code",
   "execution_count": 5,
   "metadata": {},
   "outputs": [],
   "source": [
    "df = pd.read_spss('data/PERSONAS.sav')\n",
    "completas = df.PPA09 == 'COMPLETA'\n",
    "df = df[completas]\n",
    "num_hog = df.NUMHOG\n",
    "num_hog = num_hog.to_list()\n",
    "num_hog = tuple(set(num_hog))"
   ]
  },
  {
   "cell_type": "markdown",
   "metadata": {},
   "source": [
    "# Donaciones"
   ]
  },
  {
   "cell_type": "code",
   "execution_count": 3,
   "metadata": {},
   "outputs": [],
   "source": [
    "df = pd.read_spss('data/DONACIONES.sav')"
   ]
  },
  {
   "cell_type": "markdown",
   "metadata": {},
   "source": [
    "### Pobreza de cada hogar"
   ]
  },
  {
   "cell_type": "code",
   "execution_count": 4,
   "metadata": {},
   "outputs": [],
   "source": [
    "pobreza = []\n",
    "for nh in num_hog:\n",
    "    _nh = df.NUMHOG == nh\n",
    "    pobreza_nh = df[_nh]['POBREZA'].iat[0]\n",
    "    pobreza.append(pobreza_nh)"
   ]
  },
  {
   "cell_type": "markdown",
   "metadata": {},
   "source": [
    "### P01F03 (Si tuviera que comprar lo que recibio en los últimos 12 meses en donaciones, ¿cuánto cree que le costaría?)"
   ]
  },
  {
   "cell_type": "code",
   "execution_count": 5,
   "metadata": {},
   "outputs": [],
   "source": [
    "P01F03 = []\n",
    "for nh in num_hog:\n",
    "    _nh = df.NUMHOG == nh\n",
    "    i = df[_nh]['P01F03'].sum()\n",
    "    P01F03.append(i)"
   ]
  },
  {
   "cell_type": "markdown",
   "metadata": {},
   "source": [
    "# Crédito"
   ]
  },
  {
   "cell_type": "code",
   "execution_count": 6,
   "metadata": {},
   "outputs": [],
   "source": [
    "df = pd.read_spss('data/Compras al crédito - encabezado-.sav')"
   ]
  },
  {
   "cell_type": "markdown",
   "metadata": {},
   "source": [
    "### P15B02 (En los últimos 15 días, ¿cuál fue el monto total de sus compras al crédito en alimentos?)"
   ]
  },
  {
   "cell_type": "code",
   "execution_count": 7,
   "metadata": {},
   "outputs": [],
   "source": [
    "P15B02 = []\n",
    "for nh in num_hog:\n",
    "    _nh = df.NUMHOG == nh\n",
    "    i = df[_nh]['P15B02'].sum()\n",
    "    P15B02.append(i)"
   ]
  },
  {
   "cell_type": "markdown",
   "metadata": {},
   "source": [
    "### P15B04 (¿Cuál fue el monto de sus compras al crédito de los bienes y artículos del hogar?)"
   ]
  },
  {
   "cell_type": "code",
   "execution_count": 8,
   "metadata": {},
   "outputs": [],
   "source": [
    "P15B04 = []\n",
    "for nh in num_hog:\n",
    "    _nh = df.NUMHOG == nh\n",
    "    i = df[_nh]['P15B04'].sum()\n",
    "    P15B04.append(i)"
   ]
  },
  {
   "cell_type": "markdown",
   "metadata": {},
   "source": [
    "### P15B06A (Durante los ultimos 12 meses, cuantas compras al credito realizaron? (no. de compras))"
   ]
  },
  {
   "cell_type": "code",
   "execution_count": 9,
   "metadata": {},
   "outputs": [],
   "source": [
    "P15B06A = []\n",
    "for nh in num_hog:\n",
    "    _nh = df.NUMHOG == nh\n",
    "    i = df[_nh]['P15B06A'].sum()\n",
    "    P15B06A.append(i)"
   ]
  },
  {
   "cell_type": "markdown",
   "metadata": {},
   "source": [
    "# Negocios No Agropecuarios"
   ]
  },
  {
   "cell_type": "code",
   "execution_count": 10,
   "metadata": {},
   "outputs": [],
   "source": [
    "df = pd.read_spss('data/Negocios No Agropecuarios Encabezado.sav')"
   ]
  },
  {
   "cell_type": "markdown",
   "metadata": {},
   "source": [
    "### P13A02A (¿Cuántos comercios, negocios o fábricas tienen en éste hogar?)"
   ]
  },
  {
   "cell_type": "code",
   "execution_count": 11,
   "metadata": {},
   "outputs": [],
   "source": [
    "P13A02A = []\n",
    "for nh in num_hog:\n",
    "    _nh = df.NUMHOG == nh\n",
    "    i = df[_nh]['P13A02A'].sum()\n",
    "    P13A02A.append(i)"
   ]
  },
  {
   "cell_type": "markdown",
   "metadata": {},
   "source": [
    "# Personas"
   ]
  },
  {
   "cell_type": "code",
   "execution_count": 12,
   "metadata": {},
   "outputs": [],
   "source": [
    "df = pd.read_spss('data/PERSONAS.sav')"
   ]
  },
  {
   "cell_type": "markdown",
   "metadata": {},
   "source": [
    "### P06B01 (Sabe Leer Y Escribir?) total de sis"
   ]
  },
  {
   "cell_type": "code",
   "execution_count": 13,
   "metadata": {},
   "outputs": [],
   "source": [
    "P06B01 = []\n",
    "for nh in num_hog:\n",
    "    _nh = df.NUMHOG == nh\n",
    "    i = df[_nh]['P06B01']\n",
    "    i = i.to_list().count('Si')\n",
    "    P06B01.append(i)"
   ]
  },
  {
   "cell_type": "markdown",
   "metadata": {},
   "source": [
    "### P06B10A (Cuánto Tiempo Tarda (...) Para Ir Al Centro Educativo Donde Estudia? (Horas))"
   ]
  },
  {
   "cell_type": "code",
   "execution_count": 14,
   "metadata": {},
   "outputs": [],
   "source": [
    "P06B10A = extraer('P06B10A', df, num_hog)"
   ]
  },
  {
   "cell_type": "markdown",
   "metadata": {},
   "source": [
    "### P06B10B (Cuánto Tiempo Tarda (...) Para Ir Al Centro Educativo Donde Estudia? (Minutos))"
   ]
  },
  {
   "cell_type": "code",
   "execution_count": 15,
   "metadata": {},
   "outputs": [],
   "source": [
    "P06B10B = extraer('P06B10B', df, num_hog)"
   ]
  },
  {
   "cell_type": "markdown",
   "metadata": {},
   "source": [
    "### P09A03B (Horas Que Trabajó Ayer Sin Percibir Ingresos)"
   ]
  },
  {
   "cell_type": "code",
   "execution_count": 16,
   "metadata": {},
   "outputs": [],
   "source": [
    "P09A03B = extraer('P09A03B', df, num_hog)"
   ]
  },
  {
   "cell_type": "markdown",
   "metadata": {},
   "source": [
    "### P09A03C (Minutos Que Trabajó Ayer Sin Percibir Ingresos)"
   ]
  },
  {
   "cell_type": "code",
   "execution_count": 17,
   "metadata": {},
   "outputs": [],
   "source": [
    "P09A03C = extraer('P09A03C', df, num_hog)"
   ]
  },
  {
   "cell_type": "markdown",
   "metadata": {},
   "source": [
    "### P09B02B (Cuantas Horas Pasó En Transporte A Su Lugar De Estudios? (Ayer))"
   ]
  },
  {
   "cell_type": "code",
   "execution_count": 18,
   "metadata": {},
   "outputs": [],
   "source": [
    "P09B02B = extraer('P09B02B', df, num_hog)"
   ]
  },
  {
   "cell_type": "markdown",
   "metadata": {},
   "source": [
    "### P09B02C (Cuantos Minutos Pasó En Transporte A Su Lugar De Estudios? (Ayer))"
   ]
  },
  {
   "cell_type": "code",
   "execution_count": 19,
   "metadata": {},
   "outputs": [],
   "source": [
    "P09B02C = extraer('P09B02C', df, num_hog)"
   ]
  },
  {
   "cell_type": "markdown",
   "metadata": {},
   "source": [
    "### P09F03B (Horas Que Dedico A Trasladarse A Su Lugar De Trabajo Ayer)"
   ]
  },
  {
   "cell_type": "code",
   "execution_count": 20,
   "metadata": {},
   "outputs": [],
   "source": [
    "P09F03B = extraer('P09F03B', df, num_hog)"
   ]
  },
  {
   "cell_type": "markdown",
   "metadata": {},
   "source": [
    "### P09F03C (Minutos Que Dedico A Trasladarse A Su Lugar De Trabajo Ayer)"
   ]
  },
  {
   "cell_type": "code",
   "execution_count": 21,
   "metadata": {},
   "outputs": [],
   "source": [
    "P09F03C = extraer('P09F03C', df, num_hog)"
   ]
  },
  {
   "cell_type": "markdown",
   "metadata": {},
   "source": [
    "### P09F04B (Horas Que Dedicó A Descansar, Relajarse, Etc. Ayer)"
   ]
  },
  {
   "cell_type": "code",
   "execution_count": 22,
   "metadata": {},
   "outputs": [],
   "source": [
    "P09F04B = extraer('P09F04B', df, num_hog)"
   ]
  },
  {
   "cell_type": "markdown",
   "metadata": {},
   "source": [
    "### P09F04B (Minutos Que Dedicó A Descansar, Relajarse, Etc. Ayer)"
   ]
  },
  {
   "cell_type": "code",
   "execution_count": 23,
   "metadata": {},
   "outputs": [],
   "source": [
    "P09F04C = extraer('P09F04C', df, num_hog)"
   ]
  },
  {
   "cell_type": "markdown",
   "metadata": {},
   "source": [
    "### P09F05B (Horas Que Dedico A Actividades Deportivas, Culturales Etc. Fuera Del Hogar Ayer)"
   ]
  },
  {
   "cell_type": "code",
   "execution_count": 24,
   "metadata": {},
   "outputs": [],
   "source": [
    "P09F05B = extraer('P09F05B', df, num_hog)"
   ]
  },
  {
   "cell_type": "markdown",
   "metadata": {},
   "source": [
    "### P09F05C (Minutos Que Dedico A Actividades Deportivas, Culturales Etc. Fuera Del Hogar Ayer) "
   ]
  },
  {
   "cell_type": "code",
   "execution_count": 25,
   "metadata": {},
   "outputs": [],
   "source": [
    "P09F05C = extraer('P09F05C', df, num_hog)"
   ]
  },
  {
   "cell_type": "markdown",
   "metadata": {},
   "source": [
    "### P09F06B (Horas Que Dedicó A Algún Trabajo Para Otros Hogares De Forma Gratuita Ayer) "
   ]
  },
  {
   "cell_type": "code",
   "execution_count": 26,
   "metadata": {},
   "outputs": [],
   "source": [
    "P09F06B = extraer('P09F06B', df, num_hog)"
   ]
  },
  {
   "cell_type": "markdown",
   "metadata": {},
   "source": [
    "### P09F06C (Minutos Que Dedicó A Algún Trabajo Para Otros Hogares De Forma Gratuita Ayer)"
   ]
  },
  {
   "cell_type": "code",
   "execution_count": 27,
   "metadata": {},
   "outputs": [],
   "source": [
    "P09F06C = extraer('P09F06C', df, num_hog)"
   ]
  },
  {
   "cell_type": "markdown",
   "metadata": {},
   "source": [
    "### P09F07B (Horas Que Dedicó A Realizar Gestiones Para Mejoras De La Comunidad Etc. Ayer)"
   ]
  },
  {
   "cell_type": "code",
   "execution_count": 28,
   "metadata": {},
   "outputs": [],
   "source": [
    "P09F07B = extraer('P09F07B', df, num_hog)"
   ]
  },
  {
   "cell_type": "markdown",
   "metadata": {},
   "source": [
    "### P09F07C (Minutos Que Dedicó A Realizar Gestiones Para Mejoras De La Comunidad Etc. Ayer)"
   ]
  },
  {
   "cell_type": "code",
   "execution_count": 29,
   "metadata": {},
   "outputs": [],
   "source": [
    "P09F07C = extraer('P09F07C', df, num_hog)"
   ]
  },
  {
   "cell_type": "markdown",
   "metadata": {},
   "source": [
    "### P09F08B (Horas Que Dedicó A Lectura Recreativa De Algún Libro, Revista, Períodico Ayer)"
   ]
  },
  {
   "cell_type": "code",
   "execution_count": 30,
   "metadata": {},
   "outputs": [],
   "source": [
    "P09F08B = extraer('P09F08B', df, num_hog)"
   ]
  },
  {
   "cell_type": "markdown",
   "metadata": {},
   "source": [
    "### P09F08C (Minutos Que Dedicó A Lectura Recreativa De Algún Libro, Revista, Períodico Ayer)"
   ]
  },
  {
   "cell_type": "code",
   "execution_count": 31,
   "metadata": {},
   "outputs": [],
   "source": [
    "P09F08C = extraer('P09F08C', df, num_hog)"
   ]
  },
  {
   "cell_type": "markdown",
   "metadata": {},
   "source": [
    "### P09F09B (Horas Que Dedicó A Ver Tele, Escuchar Música, Utilizar Internet (Entretenimiento) Ayer)"
   ]
  },
  {
   "cell_type": "code",
   "execution_count": 32,
   "metadata": {},
   "outputs": [],
   "source": [
    "P09F09B = extraer('P09F09B', df, num_hog)"
   ]
  },
  {
   "cell_type": "markdown",
   "metadata": {},
   "source": [
    "### P09F09C (Minutos Que Dedicó A Ver Tele, Escuchar Música, Utilizar Internet (Entretenimiento) Ayer)"
   ]
  },
  {
   "cell_type": "code",
   "execution_count": 33,
   "metadata": {},
   "outputs": [],
   "source": [
    "P09F09C = extraer('P09F09C', df, num_hog)"
   ]
  },
  {
   "cell_type": "markdown",
   "metadata": {},
   "source": [
    "### P10B01 (Cuántos Trabajos Tuvo (?.) La Semana Pasada?)"
   ]
  },
  {
   "cell_type": "code",
   "execution_count": 34,
   "metadata": {},
   "outputs": [],
   "source": [
    "P10B01 = extraer('P10B01', df, num_hog)"
   ]
  },
  {
   "cell_type": "markdown",
   "metadata": {},
   "source": [
    "### P10B08 (Cuál Fue El Sueldo O Salario Mensual Sin Descuentos De (...) En Este Trabajo?)"
   ]
  },
  {
   "cell_type": "code",
   "execution_count": 35,
   "metadata": {},
   "outputs": [],
   "source": [
    "P10B08 = extraer('P10B08', df, num_hog)"
   ]
  },
  {
   "cell_type": "markdown",
   "metadata": {},
   "source": [
    "### P10B20B (Cuánto Le Costaría La Vivienda Por Mes Si Tuviera Que Aquilarla?) "
   ]
  },
  {
   "cell_type": "code",
   "execution_count": 36,
   "metadata": {},
   "outputs": [],
   "source": [
    "P10B20B = extraer('P10B20B', df, num_hog)"
   ]
  },
  {
   "cell_type": "markdown",
   "metadata": {},
   "source": [
    "### P11A05B (Cuanto Recibio (...) De Ayudas O Donaciones De Personas Ubicadas En Guatemala?)"
   ]
  },
  {
   "cell_type": "code",
   "execution_count": 37,
   "metadata": {},
   "outputs": [],
   "source": [
    "P11A05B = extraer('P11A05B', df, num_hog)"
   ]
  },
  {
   "cell_type": "markdown",
   "metadata": {},
   "source": [
    "### P11A06B (Cuanto Recibio (...) Remesas De Personas Que Viven En El Extranjero?)"
   ]
  },
  {
   "cell_type": "code",
   "execution_count": 38,
   "metadata": {},
   "outputs": [],
   "source": [
    "P11A06B = extraer('P11A06B', df, num_hog)"
   ]
  },
  {
   "cell_type": "markdown",
   "metadata": {},
   "source": [
    "# Union de datos"
   ]
  },
  {
   "cell_type": "code",
   "execution_count": 39,
   "metadata": {},
   "outputs": [],
   "source": [
    "datos = {\n",
    "    'pobreza':pobreza,\n",
    "    'P01F03':P01F03,\n",
    "    'P15B02':P15B02,\n",
    "    'P15B04':P15B04,\n",
    "    'P15B06A':P15B06A,\n",
    "    'P13A02A':P13A02A,\n",
    "    'P06B01':P06B01,\n",
    "    'P06B10A':P06B10A,\n",
    "    'P06B10B':P06B10B,\n",
    "    'P09A03B':P09A03B,\n",
    "    'P09A03C':P09A03C,\n",
    "    'P09B02B':P09B02B,\n",
    "    'P09B02C':P09B02C,\n",
    "    'P09F03B':P09F03B,\n",
    "    'P09F03C':P09F03C,\n",
    "    'P09F04B':P09F04B,\n",
    "    'P09F04C':P09F04C,\n",
    "    'P09F05B':P09F05B,\n",
    "    'P09F05C':P09F05C,\n",
    "    'P09F06B':P09F06B,\n",
    "    'P09F06C':P09F06C,\n",
    "    'P09F07B':P09F07B, \n",
    "    'P09F07C':P09F07C,\n",
    "    'P09F08B':P09F08B,\n",
    "    'P09F08C':P09F08C,\n",
    "    'P09F09B':P09F09B,\n",
    "    'P09F09C':P09F09C,\n",
    "    'P10B01':P10B01,\n",
    "    'P10B08':P10B08,\n",
    "    'P10B20B':P10B20B,\n",
    "    'P11A05B':P11A05B,\n",
    "    'P11A06B':P11A06B\n",
    "}\n",
    "df = pd.DataFrame(datos)"
   ]
  },
  {
   "cell_type": "code",
   "execution_count": 40,
   "metadata": {},
   "outputs": [
    {
     "name": "stdout",
     "output_type": "stream",
     "text": [
      "<class 'pandas.core.frame.DataFrame'>\n",
      "RangeIndex: 11536 entries, 0 to 11535\n",
      "Data columns (total 32 columns):\n",
      " #   Column   Non-Null Count  Dtype  \n",
      "---  ------   --------------  -----  \n",
      " 0   pobreza  11536 non-null  object \n",
      " 1   P01F03   11536 non-null  float64\n",
      " 2   P15B02   11536 non-null  float64\n",
      " 3   P15B04   11536 non-null  float64\n",
      " 4   P15B06A  11536 non-null  float64\n",
      " 5   P13A02A  11536 non-null  float64\n",
      " 6   P06B01   11536 non-null  int64  \n",
      " 7   P06B10A  11536 non-null  float64\n",
      " 8   P06B10B  11536 non-null  float64\n",
      " 9   P09A03B  11536 non-null  float64\n",
      " 10  P09A03C  11536 non-null  float64\n",
      " 11  P09B02B  11536 non-null  float64\n",
      " 12  P09B02C  11536 non-null  float64\n",
      " 13  P09F03B  11536 non-null  float64\n",
      " 14  P09F03C  11536 non-null  float64\n",
      " 15  P09F04B  11536 non-null  float64\n",
      " 16  P09F04C  11536 non-null  float64\n",
      " 17  P09F05B  11536 non-null  float64\n",
      " 18  P09F05C  11536 non-null  float64\n",
      " 19  P09F06B  11536 non-null  float64\n",
      " 20  P09F06C  11536 non-null  float64\n",
      " 21  P09F07B  11536 non-null  float64\n",
      " 22  P09F07C  11536 non-null  float64\n",
      " 23  P09F08B  11536 non-null  float64\n",
      " 24  P09F08C  11536 non-null  float64\n",
      " 25  P09F09B  11536 non-null  float64\n",
      " 26  P09F09C  11536 non-null  float64\n",
      " 27  P10B01   11536 non-null  float64\n",
      " 28  P10B08   11536 non-null  float64\n",
      " 29  P10B20B  11536 non-null  float64\n",
      " 30  P11A05B  11536 non-null  float64\n",
      " 31  P11A06B  11536 non-null  float64\n",
      "dtypes: float64(30), int64(1), object(1)\n",
      "memory usage: 2.8+ MB\n"
     ]
    }
   ],
   "source": [
    "df.info()"
   ]
  },
  {
   "cell_type": "code",
   "execution_count": 41,
   "metadata": {},
   "outputs": [],
   "source": [
    "df.to_csv('data/db.csv')"
   ]
  }
 ],
 "metadata": {
  "kernelspec": {
   "display_name": ".venv",
   "language": "python",
   "name": "python3"
  },
  "language_info": {
   "codemirror_mode": {
    "name": "ipython",
    "version": 3
   },
   "file_extension": ".py",
   "mimetype": "text/x-python",
   "name": "python",
   "nbconvert_exporter": "python",
   "pygments_lexer": "ipython3",
   "version": "3.13.1"
  },
  "orig_nbformat": 4
 },
 "nbformat": 4,
 "nbformat_minor": 2
}
